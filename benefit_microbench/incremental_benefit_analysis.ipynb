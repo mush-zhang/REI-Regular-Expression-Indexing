{
 "cells": [
  {
   "cell_type": "code",
   "execution_count": 1,
   "id": "f6f77785-7fe8-4930-9b5c-c55580c671f1",
   "metadata": {},
   "outputs": [],
   "source": [
    "import numpy as np\n",
    "import pandas as pd\n",
    "import seaborn as sns\n",
    "import matplotlib.pyplot as plt"
   ]
  },
  {
   "cell_type": "code",
   "execution_count": 2,
   "id": "ad133c4f-c7a4-4697-8bae-4f63c0356895",
   "metadata": {},
   "outputs": [],
   "source": [
    "SMALL_SIZE = 15\n",
    "MEDIUM_SIZE = 18\n",
    "BIGGER_SIZE = 22\n",
    "\n",
    "plt.rc('font', size=SMALL_SIZE)          # controls default text sizes\n",
    "plt.rc('axes', titlesize=SMALL_SIZE)     # fontsize of the axes title\n",
    "plt.rc('axes', labelsize=MEDIUM_SIZE)    # fontsize of the x and y labels\n",
    "plt.rc('xtick', labelsize=SMALL_SIZE)    # fontsize of the tick labels\n",
    "plt.rc('ytick', labelsize=SMALL_SIZE)    # fontsize of the tick labels\n",
    "plt.rc('legend', fontsize=SMALL_SIZE)    # legend fontsize\n",
    "plt.rc('figure', titlesize=BIGGER_SIZE)  # fontsize of the figure title"
   ]
  },
  {
   "cell_type": "code",
   "execution_count": 3,
   "id": "65812b4e-3e1b-471c-9d71-947c5f9dac04",
   "metadata": {},
   "outputs": [],
   "source": [
    "indi_df = pd.read_csv('individual_bigram_benefit_sqlserver.csv', sep='\\t', quoting=3, engine=\"python\")\n",
    "incr_df = pd.read_csv('incremental_bigram_benefit_sqlserver.csv', sep='\\t', quoting=3, engine=\"python\")"
   ]
  },
  {
   "cell_type": "code",
   "execution_count": 4,
   "id": "9771d409-9150-442f-ace2-04727ce7c1dc",
   "metadata": {},
   "outputs": [],
   "source": [
    "base_bigram = incr_df.groupby('bigram')"
   ]
  },
  {
   "cell_type": "code",
   "execution_count": 6,
   "id": "c2377365-7b5b-4f8f-a91e-8bcf6c2194e9",
   "metadata": {},
   "outputs": [],
   "source": [
    "df = indi_df.sort_values('benefit_perc', ascending=False).reset_index(drop=True)"
   ]
  },
  {
   "cell_type": "code",
   "execution_count": 7,
   "id": "c4829e2f-d3f3-4342-a9f7-3a507e07ac5d",
   "metadata": {},
   "outputs": [],
   "source": [
    "freq_df = indi_df.sort_values('num_g', ascending=False)\n",
    "freq_bigram_list = freq_df['bigram'].to_list()\n",
    "bene_df = indi_df.sort_values('benefit_perc', ascending=False)\n",
    "bene_bigram_list = bene_df['bigram'].to_list()"
   ]
  },
  {
   "cell_type": "code",
   "execution_count": 9,
   "id": "46ec6e41-8715-4c46-b2aa-893121d19fbf",
   "metadata": {},
   "outputs": [],
   "source": [
    "cond_bigram = incr_df.groupby('condition_bigram')"
   ]
  },
  {
   "cell_type": "code",
   "execution_count": 10,
   "id": "def72d66-ff5c-410a-954c-b480120adb99",
   "metadata": {},
   "outputs": [],
   "source": [
    "def select_based_on_incr(indi_df, incr_df, k=200):\n",
    "    # start with the one with highest benefit\n",
    "    selected = []\n",
    "    \n",
    "    curr_bi = bene_bigram_list[0]\n",
    "    selected.append(curr_bi)\n",
    "    for i in range(k-1):\n",
    "        chosen = False\n",
    "        # select the one with highest incremental benefit\n",
    "        try:\n",
    "            all_bi = cond_bigram.get_group(curr_bi).sort_values('incremental_benefit_perc', ascending=False)['bigram']\n",
    "            for bi in all_bi:\n",
    "                if bi not in selected:\n",
    "                    selected.append(bi)\n",
    "                    curr_bi = bi\n",
    "                    chosen = True\n",
    "                    break\n",
    "        except:\n",
    "             print(f'No condi on {i}-th bigram {curr_bi}')\n",
    "        if chosen is False:\n",
    "            for bi in bene_bigram_list:\n",
    "                if bi not in selected:\n",
    "                    selected.append(bi)\n",
    "                    curr_bi = bi\n",
    "                    chosen = True\n",
    "                    break\n",
    "        if chosen is False:\n",
    "            print('Error')\n",
    "    return selected"
   ]
  },
  {
   "cell_type": "code",
   "execution_count": 11,
   "id": "f816f88c-5609-4b79-9540-ef545cea8d1d",
   "metadata": {},
   "outputs": [],
   "source": [
    "def plot_line(x, plot_dict, color_shift=False):\n",
    "    sns.set_style(\"white\")\n",
    "\n",
    "    colors = ['#1b9e77','#d95f02','#7570b3','#e7298a','#66a61e','#e6ab02']\n",
    "    if not color_shift:\n",
    "        colors = colors[:3] \n",
    "    else:\n",
    "        colors = colors[3:]  \n",
    "\n",
    "    fig, ax = plt.subplots(figsize=(8,2))\n",
    "    ax.plot(x, plot_dict['data1'], label=plot_dict['label1'], c=colors[0], alpha=0.8)\n",
    "    ax.plot(x, plot_dict['data2'], label=plot_dict['label2'], c=colors[1], alpha=0.8)\n",
    "    ax.plot(x, plot_dict['data3'], label=plot_dict['label3'], c=colors[2], alpha=0.8)\n",
    "    ax.set_xlabel('Number of Bigrams')\n",
    "    ax.set_ylabel(plot_dict['ylabel'])\n",
    "    plt.legend()\n",
    "    plt.savefig(f\"figs/{plot_dict['name']}.pdf\", bbox_inches = 'tight')\n",
    "    plt.show()"
   ]
  },
  {
   "cell_type": "code",
   "execution_count": null,
   "id": "ceb18b12-9011-4829-9e96-1665b595f7bc",
   "metadata": {},
   "outputs": [],
   "source": [
    "incr_bene_bigram_list = select_based_on_incr(indi_df, incr_df)\n",
    "\n",
    "freq_indi_intersect_rates = []\n",
    "freq_incr_intersect_rates = []\n",
    "indi_incr_intersect_rates = []\n",
    "\n",
    "x = [4, 8, 16, 32, 64, 96, 128]\n",
    "for num in x:\n",
    "    print(num)\n",
    "    freq_bigrams = set(freq_bigram_list[:num])\n",
    "    bene_bigrams = set(bene_bigram_list[:num])\n",
    "    incr_bene_bigrams = set(incr_bene_bigram_list[:num])\n",
    "    intersect = freq_bigrams & bene_bigrams\n",
    "    intersect2 = bene_bigrams & incr_bene_bigrams\n",
    "    intersect3 = freq_bigrams & incr_bene_bigrams\n",
    "    print(f'size of freq&indi_benefit intersection {len(intersect)}, rate {len(intersect)/num}')\n",
    "    print(f'size of incre_benefit&indi_benefit intersection {len(intersect2)}, rate {len(intersect2)/num}')\n",
    "    print(f'size of incre_benefit&freq intersection {len(intersect3)}, rate {len(intersect3)/num}')\n",
    "    freq_indi_intersect_rates.append(100*len(intersect)/num)\n",
    "    freq_incr_intersect_rates.append(100*len(intersect3)/num)\n",
    "    indi_incr_intersect_rates.append(100*len(intersect2)/num)\n",
    "\n",
    "plot_dict = {\n",
    "    'name': 'inter_rate',\n",
    "    'ylabel': 'Intersection %',\n",
    "    'label1': 'Freq&Bene',\n",
    "    'data1': freq_indi_intersect_rates,\n",
    "    'label2': 'Freq&Incr_Bene',\n",
    "    'data2': freq_incr_intersect_rates,\n",
    "    'label3': 'Bene&Incr_Bene',\n",
    "    'data3': indi_incr_intersect_rates,\n",
    "}\n",
    "plot_line(x, plot_dict)"
   ]
  },
  {
   "cell_type": "code",
   "execution_count": null,
   "id": "7169be87-a1df-48b3-9884-04818e8b3d45",
   "metadata": {},
   "outputs": [],
   "source": [
    "microbench_dir = 'microbench64_subset'\n",
    "# microbench_dir = 'microbench64'\n",
    "\n",
    "perf_df = pd.read_csv(f'{microbench_dir}/summary0.csv', sep='\\t')"
   ]
  },
  {
   "cell_type": "code",
   "execution_count": 14,
   "id": "a4977223-3ebc-4bc8-8b23-00dc4ec3b511",
   "metadata": {},
   "outputs": [
    {
     "name": "stdout",
     "output_type": "stream",
     "text": [
      "freq time: 0.40825198500000004\n",
      "bene time: 0.43457194800000015\n",
      "incr bene time: 0.36736730800000006\n"
     ]
    }
   ],
   "source": [
    "print(f\"freq time: {perf_df['mid_filter_time'].sum()}\")\n",
    "print(f\"bene time: {perf_df['mid_bene_filter_time'].sum()}\")\n",
    "print(f\"incr bene time: {perf_df['mid_incr_filter_time'].sum()}\")"
   ]
  },
  {
   "cell_type": "code",
   "execution_count": 15,
   "id": "a69750ed-a486-4121-b6fc-b67dd1d52f52",
   "metadata": {},
   "outputs": [
    {
     "data": {
      "image/png": "[encoded data removed]",
      "text/plain": [
       "<Figure size 800x200 with 1 Axes>"
      ]
     },
     "metadata": {},
     "output_type": "display_data"
    }
   ],
   "source": [
    "result_dir = 'result_subset'\n",
    "\n",
    "freq_time = []\n",
    "bene_time = []\n",
    "incr_time = []\n",
    "for num in x:\n",
    "    perf_df = pd.read_csv(f'{result_dir}/microbench{num}/summary0.csv', sep='\\t')\n",
    "    freq_time.append(perf_df['mid_filter_time'].sum())\n",
    "    bene_time.append(perf_df['mid_bene_filter_time'].sum())\n",
    "    incr_time.append(perf_df['mid_incr_filter_time'].sum())\n",
    "\n",
    "plot_dict = {\n",
    "    'name': 'time_3method',\n",
    "    'ylabel': 'Matching Time (s)',\n",
    "    'label1': 'Freq',\n",
    "    'data1': freq_time,\n",
    "    'label2': 'Bene',\n",
    "    'data2': bene_time,\n",
    "    'label3': 'Incr_Bene',\n",
    "    'data3': incr_time,\n",
    "}\n",
    "plot_line(x, plot_dict, color_shift=True)"
   ]
  },
  {
   "cell_type": "code",
   "execution_count": 16,
   "id": "e56feef4-944e-4e88-b8b4-b1b21c0598ef",
   "metadata": {},
   "outputs": [],
   "source": [
    "zipped = list(zip(x, freq_time, bene_time, incr_time))\n",
    "\n",
    "df_time = pd.DataFrame(zipped, columns=['Num-BiGram', 'Freq', 'Bene', 'Incr_Bene'])"
   ]
  }
 ],
 "metadata": {
  "kernelspec": {
   "display_name": "Python 3 (ipykernel)",
   "language": "python",
   "name": "python3"
  },
  "language_info": {
   "codemirror_mode": {
    "name": "ipython",
    "version": 3
   },
   "file_extension": ".py",
   "mimetype": "text/x-python",
   "name": "python",
   "nbconvert_exporter": "python",
   "pygments_lexer": "ipython3",
   "version": "3.7.15"
  }
 },
 "nbformat": 4,
 "nbformat_minor": 5
}
