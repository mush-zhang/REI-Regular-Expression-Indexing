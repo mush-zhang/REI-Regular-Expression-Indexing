{
 "cells": [
  {
   "cell_type": "code",
   "execution_count": 134,
   "id": "fa0997dd-bafe-4eb9-9bc0-82a928f83840",
   "metadata": {},
   "outputs": [],
   "source": [
    "import numpy as np\n",
    "import pandas as pd\n",
    "import matplotlib.pyplot as plt\n",
    "import seaborn as sns\n",
    "import math\n",
    "import os\n",
    "\n",
    "import warnings\n",
    "warnings.filterwarnings(\"ignore\")\n",
    "\n",
    "import matplotlib.pyplot as plt\n",
    "plt.rcParams[\"figure.figsize\"] = (9,5)\n",
    "\n",
    "grams = ['bi-gram', 'baseline']\n",
    "grams_fp = grams[:-1]\n",
    "grams_fp_header = ['bigram',]\n",
    "\n",
    "INDEX_HEADERS = ['NGram', 'Num_Indexed', 'bitvector_index_building_time', 'bitvector_index_size', 'english_bitvector_index_building_time']\n",
    "\n",
    "DIR_NAME = 'top_bigrams'"
   ]
  },
  {
   "cell_type": "code",
   "execution_count": 150,
   "id": "5dde962d-54fd-45ea-afd0-d4b2f6759174",
   "metadata": {},
   "outputs": [],
   "source": [
    "wl = 'db_x'\n",
    "# wl = 'sys_y'\n",
    "wl = 'traffic'"
   ]
  },
  {
   "cell_type": "code",
   "execution_count": 151,
   "id": "55ffafc9-6ebc-4afc-999d-c937d70b9740",
   "metadata": {},
   "outputs": [],
   "source": [
    "if wl == 'db_x':    \n",
    "    NUM_LOGS = 101876733\n",
    "    NUM_REGEX = 132\n",
    "    ns = [4, 8, 16, 32, 64, 96, 128, 192, 256, 320, 384, 448, 512]\n",
    "    n_bins = 20\n",
    "elif wl == 'traffic':\n",
    "    NUM_LOGS = 2845343\n",
    "    NUM_REGEX = 4\n",
    "    ns = [2, 4, 8, 16]\n",
    "    n_bins = 20\n",
    "elif wl == 'sys_y':    \n",
    "    NUM_LOGS = 890623051\n",
    "    NUM_REGEX = 17\n",
    "    ns = [2, 4, 8, 16]\n",
    "    n_bins = 20"
   ]
  },
  {
   "cell_type": "code",
   "execution_count": 152,
   "id": "8d1e96fd-2f73-4587-92a7-a5dd4e6aa4af",
   "metadata": {},
   "outputs": [
    {
     "name": "stdout",
     "output_type": "stream",
     "text": [
      "top_bigrams/bigram_freq_traffic.csv (18, 2)\n"
     ]
    }
   ],
   "source": [
    "fname = os.path.join(DIR_NAME, f'bigram_freq_{wl}.csv')\n",
    "\n",
    "df = pd.read_csv(fname, sep='\\t', quoting=3)\n",
    "print(fname, df.shape)"
   ]
  },
  {
   "cell_type": "code",
   "execution_count": 153,
   "id": "4f5f9f9e-2d7b-4031-bb50-43063eeae5e9",
   "metadata": {},
   "outputs": [],
   "source": [
    "df['perc_freq'] = 100*df['freq']/NUM_REGEX"
   ]
  },
  {
   "cell_type": "code",
   "execution_count": 154,
   "id": "62dd685c-1c68-4591-b1d6-5f48600e0ea2",
   "metadata": {},
   "outputs": [
    {
     "name": "stdout",
     "output_type": "stream",
     "text": [
      "1& 1.0& 1.0& 2.0& 3\n"
     ]
    }
   ],
   "source": [
    "print(f\"{np.min(df['freq'])}& {np.quantile(df['freq'], 0.25)}& {np.quantile(df['freq'], 0.5)}& {np.quantile(df['freq'], 0.75)}& {np.max(df['freq'])}\")"
   ]
  },
  {
   "cell_type": "code",
   "execution_count": 155,
   "id": "4aac0863-ce32-4f95-87c2-089624ade31f",
   "metadata": {},
   "outputs": [
    {
     "name": "stdout",
     "output_type": "stream",
     "text": [
      "   bigram  freq  perc_freq\n",
      "0      t      3       75.0\n",
      "1       a     2       50.0\n",
      "2      Ex     2       50.0\n",
      "3      at     2       50.0\n",
      "4      it     2       50.0\n",
      "5      n      2       50.0\n",
      "6      on     2       50.0\n",
      "7      xi     2       50.0\n",
      "8       E     1       25.0\n",
      "9       o     1       25.0\n",
      "10      t     1       25.0\n",
      "11     At     1       25.0\n",
      "12     Ra     1       25.0\n",
      "13     am     1       25.0\n",
      "14     mp     1       25.0\n",
      "15     o      1       25.0\n",
      "16     p      1       25.0\n",
      "17     to     1       25.0\n"
     ]
    }
   ],
   "source": [
    "print(df.head(20))"
   ]
  },
  {
   "cell_type": "code",
   "execution_count": 156,
   "id": "cdeee6e5-a5b1-44e4-9c6a-c1408a2c34c8",
   "metadata": {},
   "outputs": [
    {
     "name": "stdout",
     "output_type": "stream",
     "text": [
      "25.0& 25.0& 25.0& 50.0& 75.0\n"
     ]
    }
   ],
   "source": [
    "print(f\"{np.min(df['perc_freq']):.1f}& {np.quantile(df['perc_freq'], 0.25):.1f}& {np.quantile(df['perc_freq'], 0.5):.1f}& {np.quantile(df['perc_freq'], 0.75):.1f}& {np.max(df['perc_freq']):.1f}\")"
   ]
  }
 ],
 "metadata": {
  "kernelspec": {
   "display_name": "Python 3 (ipykernel)",
   "language": "python",
   "name": "python3"
  },
  "language_info": {
   "codemirror_mode": {
    "name": "ipython",
    "version": 3
   },
   "file_extension": ".py",
   "mimetype": "text/x-python",
   "name": "python",
   "nbconvert_exporter": "python",
   "pygments_lexer": "ipython3",
   "version": "3.7.15"
  }
 },
 "nbformat": 4,
 "nbformat_minor": 5
}
