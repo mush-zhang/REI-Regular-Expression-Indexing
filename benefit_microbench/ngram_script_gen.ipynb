{
 "cells": [
  {
   "cell_type": "code",
   "execution_count": 16,
   "id": "fc1c2606-bdc8-49e7-a2fb-e7296e4c5f78",
   "metadata": {},
   "outputs": [],
   "source": [
    "import numpy as np\n",
    "import pandas as pd\n",
    "import matplotlib.pyplot as plt\n",
    "import seaborn as sns\n",
    "import math\n",
    "import os\n",
    "\n",
    "import warnings\n",
    "warnings.filterwarnings(\"ignore\")"
   ]
  },
  {
   "cell_type": "code",
   "execution_count": 18,
   "id": "8694a05f-d09e-4dd6-be2c-4c5981ed35e2",
   "metadata": {},
   "outputs": [],
   "source": [
    "ns = [4, 8, 16, 32, 64, 96, 128]\n",
    "gram_names = ['bigram']"
   ]
  },
  {
   "cell_type": "code",
   "execution_count": 20,
   "id": "f3210e74-cbd5-4f00-bd1f-39657a89ccd4",
   "metadata": {},
   "outputs": [],
   "source": [
    "def override_curr_num_indexed(filename, template_lines, num_ngram):\n",
    "    with open(filename, 'w') as out:\n",
    "        for l in template_lines:\n",
    "            if 'const static int NUM_INDEXED' in l:\n",
    "                out.write(f'const static int NUM_INDEXED = {num_ngram};'+ os.linesep)\n",
    "            else:\n",
    "                out.write(l)"
   ]
  },
  {
   "cell_type": "code",
   "execution_count": 21,
   "id": "20119cfb-035a-4d95-95f9-8aad7c7b992d",
   "metadata": {},
   "outputs": [],
   "source": [
    "for gram in gram_names:\n",
    "    # open and read the ngram_record_all_base.cpp\n",
    "    f = open(f'{gram}_record_all_base.cpp', \"r\")\n",
    "    curr = f.readlines()\n",
    "    f.close()\n",
    "    \n",
    "    # output files with different num_indexed\n",
    "    for num_ngram in ns:\n",
    "        override_curr_num_indexed(f'microbench_script/{gram}_record_all_{num_ngram}.cpp', curr, num_ngram)"
   ]
  },
  {
   "cell_type": "code",
   "execution_count": 22,
   "id": "a8aa2ebf-8683-4080-8934-397de4864dd9",
   "metadata": {},
   "outputs": [],
   "source": [
    "f = open('ngram_record_all_base.sh', 'r')\n",
    "curr = f.readlines()\n",
    "f.close()\n",
    "\n",
    "with open('microbench_script/ngram_record_all.sh', 'w') as out:\n",
    "    for line in curr:\n",
    "        if 'num_ngrams_list=(' in line:\n",
    "            out.write('num_ngrams_list=( ')\n",
    "            for n in ns:\n",
    "                out.write(f'{n} ')\n",
    "            out.write(')'+os.linesep)\n",
    "        elif 'grams_list=' in line:\n",
    "            out.write('grams_list=( ')\n",
    "            for gram in gram_names:\n",
    "                out.write(f'{gram} ')\n",
    "            out.write(')'+os.linesep)\n",
    "        elif 'num_indexed=' in line:\n",
    "            out.write(f'num_indexed={num_indexed_for_all}'+os.linesep)\n",
    "        elif 'wlname=' in line:\n",
    "            out.write(f'wlname={wlname}'+os.linesep)\n",
    "        else:\n",
    "            out.write(line)"
   ]
  }
 ],
 "metadata": {
  "kernelspec": {
   "display_name": "Python 3 (ipykernel)",
   "language": "python",
   "name": "python3"
  },
  "language_info": {
   "codemirror_mode": {
    "name": "ipython",
    "version": 3
   },
   "file_extension": ".py",
   "mimetype": "text/x-python",
   "name": "python",
   "nbconvert_exporter": "python",
   "pygments_lexer": "ipython3",
   "version": "3.7.15"
  }
 },
 "nbformat": 4,
 "nbformat_minor": 5
}
