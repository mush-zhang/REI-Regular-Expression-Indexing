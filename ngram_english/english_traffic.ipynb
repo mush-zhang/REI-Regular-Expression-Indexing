{
 "cells": [
  {
   "cell_type": "markdown",
   "id": "714cd716-d6c6-4be0-9902-17d423e5a15f",
   "metadata": {},
   "source": [
    "# Experiment"
   ]
  },
  {
   "cell_type": "markdown",
   "id": "1da63bb0-6d1c-4593-b686-08f9606644c4",
   "metadata": {},
   "source": [
    "### Detailed Results"
   ]
  },
  {
   "cell_type": "code",
   "execution_count": 1,
   "id": "612f144f-00ba-4f15-8fee-cbc99f0c6348",
   "metadata": {},
   "outputs": [],
   "source": [
    "import numpy as np\n",
    "import pandas as pd\n",
    "import matplotlib.pyplot as plt\n",
    "from mpl_toolkits.axes_grid1.inset_locator import inset_axes\n",
    "import seaborn as sns\n",
    "import math\n",
    "import os\n",
    "\n",
    "import warnings\n",
    "warnings.filterwarnings(\"ignore\")\n",
    "\n",
    "import matplotlib.pyplot as plt\n",
    "plt.rcParams[\"figure.figsize\"] = (9,5)\n",
    "\n",
    "NUM_LOGS = 2845343\n",
    "NUM_REGEX = 4\n",
    "NUM_REP = 1\n",
    "ns = [2, 4, 8, 16]\n",
    "grams = ['bigram', 'baseline']\n",
    "grams_fp = grams[:-1]\n",
    "grams_fp_header = ['bigram',]\n",
    "\n",
    "INDEX_HEADERS = ['NGram', 'Num_Indexed', 'bitvector_index_building_time', 'bitvector_index_size', 'english_bitvector_index_building_time']\n",
    "\n",
    "DIR_NAME = 'out_5_traffic_w_baseline'"
   ]
  },
  {
   "cell_type": "code",
   "execution_count": 2,
   "id": "221416ea-f929-401b-afa0-cb719657c9ae",
   "metadata": {},
   "outputs": [],
   "source": [
    "SMALL_SIZE = 15\n",
    "MEDIUM_SIZE = 18\n",
    "BIGGER_SIZE = 22\n",
    "\n",
    "plt.rc('font', size=SMALL_SIZE)          # controls default text sizes\n",
    "plt.rc('axes', titlesize=SMALL_SIZE)     # fontsize of the axes title\n",
    "plt.rc('axes', labelsize=MEDIUM_SIZE)    # fontsize of the x and y labels\n",
    "plt.rc('xtick', labelsize=SMALL_SIZE)    # fontsize of the tick labels\n",
    "plt.rc('ytick', labelsize=SMALL_SIZE)    # fontsize of the tick labels\n",
    "plt.rc('legend', fontsize=SMALL_SIZE)    # legend fontsize\n",
    "plt.rc('figure', titlesize=BIGGER_SIZE)  # fontsize of the figure title"
   ]
  },
  {
   "cell_type": "code",
   "execution_count": 4,
   "id": "5f25b9e1-44e1-4b5f-8d27-1e952f7e87e2",
   "metadata": {
    "tags": []
   },
   "outputs": [],
   "source": [
    "# index building time\n",
    "bt_df = pd.read_csv(f'{DIR_NAME}/index_building.csv', names=INDEX_HEADERS)  \n",
    "# bt_df['bitvector_index_size'] = bt_df['bitvector_index_size']/(1024 * 1024)\n",
    "# bt_df['english_index_size'] = bt_df['english_index_size']/(1024 * 1024)"
   ]
  },
  {
   "cell_type": "code",
   "execution_count": 5,
   "id": "12e546d0-9afe-4242-8ad0-4d1c06232c09",
   "metadata": {},
   "outputs": [
    {
     "data": {
      "text/html": [
       "<div>\n",
       "<style scoped>\n",
       "    .dataframe tbody tr th:only-of-type {\n",
       "        vertical-align: middle;\n",
       "    }\n",
       "\n",
       "    .dataframe tbody tr th {\n",
       "        vertical-align: top;\n",
       "    }\n",
       "\n",
       "    .dataframe thead th {\n",
       "        text-align: right;\n",
       "    }\n",
       "</style>\n",
       "<table border=\"1\" class=\"dataframe\">\n",
       "  <thead>\n",
       "    <tr style=\"text-align: right;\">\n",
       "      <th></th>\n",
       "      <th>NGram</th>\n",
       "      <th>Num_Indexed</th>\n",
       "      <th>bitvector_index_building_time</th>\n",
       "      <th>bitvector_index_size</th>\n",
       "      <th>english_bitvector_index_building_time</th>\n",
       "    </tr>\n",
       "  </thead>\n",
       "  <tbody>\n",
       "    <tr>\n",
       "      <th>0</th>\n",
       "      <td>bigram</td>\n",
       "      <td>2</td>\n",
       "      <td>8.16039</td>\n",
       "      <td>22762768</td>\n",
       "      <td>8.21283</td>\n",
       "    </tr>\n",
       "    <tr>\n",
       "      <th>1</th>\n",
       "      <td>bigram</td>\n",
       "      <td>4</td>\n",
       "      <td>8.58446</td>\n",
       "      <td>22762768</td>\n",
       "      <td>8.74523</td>\n",
       "    </tr>\n",
       "    <tr>\n",
       "      <th>2</th>\n",
       "      <td>bigram</td>\n",
       "      <td>8</td>\n",
       "      <td>9.48734</td>\n",
       "      <td>22762768</td>\n",
       "      <td>9.39799</td>\n",
       "    </tr>\n",
       "    <tr>\n",
       "      <th>3</th>\n",
       "      <td>bigram</td>\n",
       "      <td>16</td>\n",
       "      <td>9.10943</td>\n",
       "      <td>22762768</td>\n",
       "      <td>9.20703</td>\n",
       "    </tr>\n",
       "  </tbody>\n",
       "</table>\n",
       "</div>"
      ],
      "text/plain": [
       "    NGram  Num_Indexed  bitvector_index_building_time  bitvector_index_size  \\\n",
       "0  bigram            2                        8.16039              22762768   \n",
       "1  bigram            4                        8.58446              22762768   \n",
       "2  bigram            8                        9.48734              22762768   \n",
       "3  bigram           16                        9.10943              22762768   \n",
       "\n",
       "   english_bitvector_index_building_time  \n",
       "0                                8.21283  \n",
       "1                                8.74523  \n",
       "2                                9.39799  \n",
       "3                                9.20703  "
      ]
     },
     "execution_count": 5,
     "metadata": {},
     "output_type": "execute_result"
    }
   ],
   "source": [
    "bt_df"
   ]
  },
  {
   "cell_type": "code",
   "execution_count": 6,
   "id": "367b9bdd-00e8-43f7-8a2f-b1deffd6d3c5",
   "metadata": {},
   "outputs": [],
   "source": [
    "def get_num_bits_masked(df, inverted):\n",
    "    bit_masks = df['filter'].to_list()\n",
    "    total_count = 0\n",
    "    for m in bit_masks:\n",
    "        if inverted:\n",
    "            total_count += m.count('0')\n",
    "        else:\n",
    "            total_count += m.count('1')\n",
    "    return total_count"
   ]
  },
  {
   "cell_type": "code",
   "execution_count": 7,
   "id": "c1536f09-e1fd-470c-bf7f-6d68c797efff",
   "metadata": {},
   "outputs": [],
   "source": [
    "blare_times = []\n",
    "\n",
    "fingerprint='bigram'\n",
    "    \n",
    "partial_df = bt_df[bt_df['NGram'] == fingerprint]\n",
    "line_remains, ave_perc_line_rem, bits_masked = [], [], []\n",
    "bit_bt_mean, bit_bt_se = [], []\n",
    "english_bt_mean, english_bt_se = [], []\n",
    "bt_size, english_size = [], []\n",
    "ft_mean, ft_se, total_matched = [], [], []\n",
    "english_mean, english_se = [], []\n",
    "\n",
    "for num_indexed in ns:\n",
    "    # for a q-gram signature, with n qgrams indexed,\n",
    "\n",
    "    bit_bt_times = partial_df[partial_df['Num_Indexed'] == num_indexed]['bitvector_index_building_time']\n",
    "    english_bt_times = partial_df[partial_df['Num_Indexed'] == num_indexed]['english_bitvector_index_building_time']\n",
    "\n",
    "    bt_sizes = partial_df[partial_df['Num_Indexed'] == num_indexed]['bitvector_index_size']\n",
    "    english_sizes = partial_df[partial_df['Num_Indexed'] == num_indexed]['bitvector_index_size']\n",
    "\n",
    "    assert(len(bit_bt_times) == NUM_REP)\n",
    "    bit_bt_mean.append(np.mean(bit_bt_times))\n",
    "    english_bt_mean.append(np.mean(english_bt_times))\n",
    "\n",
    "    bt_size.append(np.mean(bt_sizes))\n",
    "    english_size.append(np.mean(english_sizes))\n",
    "\n",
    "    bit_bt_se.append(np.std(bit_bt_times, ddof=1)/np.sqrt(len(bit_bt_times)))\n",
    "    english_bt_se.append(np.std(english_bt_times, ddof=1)/np.sqrt(len(english_bt_times)))\n",
    "\n",
    "    filter_times = []\n",
    "    invert_times = []\n",
    "    thresh_times = []\n",
    "    dir_name = f'{DIR_NAME}/new_{fingerprint}_{num_indexed}'\n",
    "\n",
    "    # Summary csv\n",
    "    f_name = os.path.join(dir_name, 'summary0.csv')\n",
    "    sum_df = pd.read_csv(f_name, sep='\\t', dtype={'filter': str})\n",
    "\n",
    "    line_rem_total = sum_df['num_after_filter'].sum()\n",
    "    line_remains.append(line_rem_total)\n",
    "    ave_perc_line_rem.append(100*line_rem_total/(NUM_LOGS*NUM_REGEX))\n",
    "\n",
    "    bits_masked.append(get_num_bits_masked(sum_df, inverted=True))\n",
    "    curr_filter_matched = sum_df['match_num_filter'].sum()\n",
    "    curr_english_matched = sum_df['match_num_English'].sum()\n",
    "    assert(curr_filter_matched == curr_english_matched)\n",
    "\n",
    "    total_matched.append(curr_filter_matched)\n",
    "\n",
    "    for subf in os.listdir(dir_name):\n",
    "        if fingerprint in subf:\n",
    "            f_name = os.path.join(dir_name, subf)\n",
    "            df = pd.read_csv(f_name, sep='\\t')\n",
    "            filter_times.append(df['filter_time'].sum())\n",
    "            blare_times.append(df['direct_time'].sum())\n",
    "            invert_times.append(df['English_time'].sum())\n",
    "    if len(filter_times) >= 3:\n",
    "        filter_times = sorted(filter_times)[1:-1]\n",
    "        invert_times = sorted(invert_times)[1:-1]\n",
    "        thresh_times = sorted(thresh_times)[1:-1]\n",
    "    ft_mean.append(np.mean(filter_times))\n",
    "    ft_se.append(np.std(filter_times, ddof=1)/np.sqrt(len(filter_times)))\n",
    "    english_mean.append(np.mean(invert_times))\n",
    "    english_se.append(np.std(invert_times, ddof=1)/np.sqrt(len(invert_times)))\n",
    "\n",
    "df = pd.DataFrame(list(zip(ns, line_remains, ave_perc_line_rem, bits_masked, \n",
    "                                bit_bt_mean, bit_bt_se,\n",
    "                                english_bt_mean, english_bt_se,\n",
    "                                bt_size, english_size,\n",
    "                                ft_mean, ft_se, \n",
    "                                english_mean, english_se,\n",
    "                                total_matched)), \n",
    "                       columns=['Num_Indexed', 'Log_After_Filter', 'Ave_Perc_Log_After_Filter', 'Num_Bits_Masked', \n",
    "                                'Bit_Index_Building_Time_Mean(s)', 'Bit_Index_Building_Time_SE(s)',\n",
    "                                'English_Index_Building_Time_Mean(s)', 'English_Index_Building_Time_SE(s)',\n",
    "                                'Bit_Index_Size(MB)', 'english_Index_Size(MB)',\n",
    "                                'Bitvec_Time_Mean(s)', 'Bitvec_Time_SE(s)', \n",
    "                                'English_Time_Mean(s)', 'English_Time_SE(s)', \n",
    "                                'Num_Matched'])\n",
    "blare_times = sorted(blare_times)[1:-1]\n",
    "blare_mean = np.mean(blare_times)\n",
    "blare_se = np.std(blare_times, ddof=1)/np.sqrt(len(blare_times))"
   ]
  },
  {
   "cell_type": "code",
   "execution_count": 8,
   "id": "fcf949ad-4fbb-4f5b-b13a-515139464141",
   "metadata": {},
   "outputs": [],
   "source": [
    "edgecolor_run = '#0173b2'\n",
    "colors_run = list(reversed(['#f7fbff', '#deebf7', '#c6dbef', '#9ecae1', '#6baed6', '#4292c6', '#2171b5', '#08519c', '#08306b']))\n",
    "\n",
    "colors_idx = list(reversed(['#fff7ec', '#fee8c8', '#fdd49e', '#fdbb84', '#fc8d59', '#ef6548', '#d7301f', '#b30000', '#7f0000']))\n",
    "edgecolor_idx = '#d55e00'\n",
    "\n",
    "colors_log = list(reversed(['#f7fcfd', '#e0ecf4', '#bfd3e6', '#9ebcda', '#8c96c6', '#8c6bb1' ,'#88419d', '#810f7c', '#4d004b']))\n",
    "edgecolor_log = '#821580'"
   ]
  },
  {
   "cell_type": "code",
   "execution_count": 9,
   "id": "1eb16308-1426-42f4-9fbc-1f3ba1b19360",
   "metadata": {},
   "outputs": [],
   "source": [
    "def plot_bar_with_err(df, plot_dict, color_map, edge_color, fname_prefix, log_scale=False, baseline=False):\n",
    "    fig, ax = plt.subplots(figsize=(3.3,3.6))\n",
    "    plt.grid(axis='y')\n",
    "\n",
    "    x = np.arange(len(ns))  # the label locations\n",
    "\n",
    "    gram = 'Bigram Index'\n",
    "    \n",
    "    if baseline:\n",
    "        y_est = blare_mean * len(x)\n",
    "        y_err = blare_se * len(x)    \n",
    "        width = df.shape[0]  # the width of the bars\n",
    "        rects = ax.bar([x[0]+0.37*width], [blare_mean], width+0.5 , color='gray', label='BLARE-RE2', alpha=0.2)\n",
    "\n",
    "    width = 0.40\n",
    "    color = []\n",
    "    rects = ax.bar(x-0.2, df[plot_dict['col_y1']], width, yerr=None if plot_dict['col_err1'] is None else df[plot_dict['col_err1']], color=color_map[0], edgecolor=edge_color, label='Freq in WL')\n",
    "    rects = ax.bar(x+0.2, df[plot_dict['col_y2']], width, yerr=None if plot_dict['col_err2'] is None else df[plot_dict['col_err2']], color=color_map[1], hatch='/', edgecolor=edge_color, label='Freq in English')\n",
    "\n",
    "    ax.set_xticks(x, ns)\n",
    "    \n",
    "    maxy = 1.6*np.max([np.max(df[plot_dict['col_y1']].to_list()), np.max(df[plot_dict['col_y2']].to_list())])\n",
    "    if baseline:\n",
    "        maxy = 1.1*np.max([blare_mean, maxy])\n",
    "    if log_scale:\n",
    "        plt.yscale('log')\n",
    "        plt.ylim( (pow(10,-1),pow(10,np.log10(maxy))) )\n",
    "    else:\n",
    "        plt.ylim(0, maxy)\n",
    "    \n",
    "    plt.xlabel(f'Number of Bigrams Indexed')\n",
    "    plt.ylabel(plot_dict['ylabel'])\n",
    "    plt.legend(loc=plot_dict['legend_loc'])\n",
    "    log_scale_tag = '' if not log_scale else '_log'\n",
    "\n",
    "    plt.savefig(f'figs/Bigram_english_Traffic_{fname_prefix}_errbar_{log_scale_tag}.pdf', bbox_inches = 'tight')\n",
    "\n",
    "    plt.show()"
   ]
  },
  {
   "cell_type": "code",
   "execution_count": 10,
   "id": "ca4eb94c-0bee-4c59-bac9-d59ee354f357",
   "metadata": {},
   "outputs": [
    {
     "data": {
      "image/png": "[encoded data removed]",
      "text/plain": [
       "<Figure size 330x360 with 1 Axes>"
      ]
     },
     "metadata": {},
     "output_type": "display_data"
    }
   ],
   "source": [
    "plot_dict= {\n",
    "    'col_y1': 'Bit_Index_Building_Time_Mean(s)',\n",
    "    'col_err1': None, #'Bit_Index_Building_Time_SE(s)',\n",
    "    'col_y2': 'English_Index_Building_Time_Mean(s)',\n",
    "    'col_err2': None, #'Bit_Index_Building_Time_SE(s)',\n",
    "    'ylabel': 'Total Time (s)',\n",
    "    'title': 'Bigram Index Building Time',\n",
    "    'legend_loc': 'best'\n",
    "}\n",
    "colors = ['#d55e00', '#7570b3'] \n",
    "plot_bar_with_err(df, plot_dict, colors, 'black', fname_prefix='IndexBuilding', log_scale=False, baseline=False)"
   ]
  },
  {
   "cell_type": "code",
   "execution_count": 11,
   "id": "ce6434ce-bb59-4752-bfdd-fc6e081920cc",
   "metadata": {},
   "outputs": [
    {
     "data": {
      "image/png": "[encoded data removed]",
      "text/plain": [
       "<Figure size 330x360 with 1 Axes>"
      ]
     },
     "metadata": {},
     "output_type": "display_data"
    }
   ],
   "source": [
    "plot_dict= {\n",
    "    'col_y1': 'Bitvec_Time_Mean(s)',\n",
    "    'col_err1': 'Bitvec_Time_SE(s)',\n",
    "    'col_y2': 'English_Time_Mean(s)',\n",
    "    'col_err2': 'English_Time_SE(s)',\n",
    "    'ylabel': 'Total Time (s)',\n",
    "    'title': 'Bigram Filter Runtime',\n",
    "    'legend_loc': 'best'\n",
    "}\n",
    "\n",
    "colors = ['#0173b2', '#8da0cb']\n",
    "plot_bar_with_err(df, plot_dict, colors, 'black', fname_prefix='SearchTime', log_scale=False, baseline=True)"
   ]
  }
 ],
 "metadata": {
  "kernelspec": {
   "display_name": "Python 3 (ipykernel)",
   "language": "python",
   "name": "python3"
  },
  "language_info": {
   "codemirror_mode": {
    "name": "ipython",
    "version": 3
   },
   "file_extension": ".py",
   "mimetype": "text/x-python",
   "name": "python",
   "nbconvert_exporter": "python",
   "pygments_lexer": "ipython3",
   "version": "3.7.15"
  }
 },
 "nbformat": 4,
 "nbformat_minor": 5
}
